{
 "cells": [
  {
   "cell_type": "code",
   "execution_count": 3,
   "metadata": {},
   "outputs": [
    {
     "ename": "ModuleNotFoundError",
     "evalue": "No module named 'SignLanguageRecognition'",
     "output_type": "error",
     "traceback": [
      "\u001b[1;31m---------------------------------------------------------------------------\u001b[0m",
      "\u001b[1;31mModuleNotFoundError\u001b[0m                       Traceback (most recent call last)",
      "Cell \u001b[1;32mIn[3], line 2\u001b[0m\n\u001b[0;32m      1\u001b[0m \u001b[38;5;28;01mimport\u001b[39;00m \u001b[38;5;21;01mos\u001b[39;00m\n\u001b[1;32m----> 2\u001b[0m \u001b[38;5;28;01mfrom\u001b[39;00m \u001b[38;5;21;01mSignLanguageRecognition\u001b[39;00m \u001b[38;5;28;01mimport\u001b[39;00m signLanguageRecognizer\n",
      "\u001b[1;31mModuleNotFoundError\u001b[0m: No module named 'SignLanguageRecognition'"
     ]
    }
   ],
   "source": [
    "import os\n",
    "from SignLanguageRecognition import signLanguageRecognizer\n"
   ]
  },
  {
   "cell_type": "markdown",
   "metadata": {},
   "source": [
    "# Enfoque 1"
   ]
  },
  {
   "cell_type": "code",
   "execution_count": 15,
   "metadata": {},
   "outputs": [],
   "source": [
    "def create_video_from_image(image_path, file_name):\n",
    "    import cv2\n",
    "    import os\n",
    "\n",
    "    frame_rate = 31\n",
    "    video_name = f\"{file_name.split('.')[0]}.mp4\"\n",
    "\n",
    "    image_file = image_path + '/' + file_name\n",
    "    frame = cv2.imread(os.path.join(image_file))\n",
    "    height, width, layers = frame.shape\n",
    "\n",
    "    video = cv2.VideoWriter(video_name, 0, 1, (width,height))\n",
    "\n",
    "    for frame in range(frame_rate):\n",
    "        video.write(cv2.imread(os.path.join(image_file)))\n",
    "\n",
    "    cv2.destroyAllWindows()\n",
    "    video.release()\n",
    "\n",
    "    return video_name"
   ]
  },
  {
   "cell_type": "code",
   "execution_count": 12,
   "metadata": {},
   "outputs": [],
   "source": [
    "image_path = '../data/sign_language/'\n",
    "arr = os.listdir(image_path)\n",
    "for file_name in arr:\n",
    "    video_name = create_video_from_image(image_path, file_name)\n",
    "    signLanguageRecognizer.signLanguageRecognizerMethod(video_name)"
   ]
  },
  {
   "cell_type": "markdown",
   "metadata": {},
   "source": [
    "# Enfqoque 2"
   ]
  },
  {
   "cell_type": "code",
   "execution_count": 2,
   "metadata": {},
   "outputs": [
    {
     "name": "stdout",
     "output_type": "stream",
     "text": [
      "WARNING:tensorflow:From c:\\Users\\AliakseiKandratsenka\\OneDrive - OGA\\Escritorio\\TestsNew\\OGATHON - Equipo 3-1\\.venv\\lib\\site-packages\\keras\\src\\backend.py:1398: The name tf.executing_eagerly_outside_functions is deprecated. Please use tf.compat.v1.executing_eagerly_outside_functions instead.\n",
      "\n",
      "WARNING:tensorflow:From c:\\Users\\AliakseiKandratsenka\\OneDrive - OGA\\Escritorio\\TestsNew\\OGATHON - Equipo 3-1\\.venv\\lib\\site-packages\\keras\\src\\layers\\pooling\\max_pooling2d.py:161: The name tf.nn.max_pool is deprecated. Please use tf.nn.max_pool2d instead.\n",
      "\n"
     ]
    }
   ],
   "source": [
    "import cv2\n",
    "import os\n",
    "import numpy as np\n",
    "from keras.models import load_model\n",
    "\n",
    "model = load_model('../models/leg_model.h5')\n",
    "gestures = {\n",
    "    1:'A',\n",
    "    2:'B',\n",
    "    3:'C',\n",
    "    4:'D',\n",
    "    5:'E',\n",
    "    6:'F',\n",
    "    7:'G',\n",
    "    8:'H',\n",
    "    9:'I',\n",
    "    10:'K',\n",
    "    11:'L',\n",
    "    12:'M',\n",
    "    13:'N',\n",
    "    14:'O',\n",
    "    15:'P',\n",
    "    16:'Q',\n",
    "    17:'R',\n",
    "    18:'S',\n",
    "    19:'T',\n",
    "    20:'U',\n",
    "    21:'V',\n",
    "    22:'W',\n",
    "    23:'X',\n",
    "    24:'Y',\n",
    "}\n",
    "\n",
    "\n",
    "def predict(gesture):\n",
    "    img = cv2.resize(gesture, (50,50))\n",
    "    img = img.reshape(1,50,50,1)\n",
    "    img = img/255.0\n",
    "    prd = model.predict(img)\n",
    "    index = prd.argmax()\n",
    "    return gestures[index]"
   ]
  },
  {
   "cell_type": "markdown",
   "metadata": {},
   "source": [
    "### Test 1"
   ]
  },
  {
   "cell_type": "code",
   "execution_count": null,
   "metadata": {},
   "outputs": [],
   "source": [
    "image_path = '../data/sign_language/'\n",
    "arr = os.listdir(image_path)\n",
    "result_test1 = {}\n",
    "for file_name in arr:\n",
    "    gesture = cv2.imread(os.path.join(file_name))\n",
    "    gesture = cv2.cvtColor(gesture, cv2.COLOR_BGR2GRAY)\n",
    "    prediction = predict(gesture)\n",
    "    result_test1[file_name] = prediction"
   ]
  },
  {
   "cell_type": "markdown",
   "metadata": {},
   "source": [
    "### Test 2"
   ]
  },
  {
   "cell_type": "code",
   "execution_count": null,
   "metadata": {},
   "outputs": [],
   "source": [
    "image_path = '../data/sign_language/'\n",
    "arr = os.listdir(image_path)\n",
    "result_test2 = {}\n",
    "for file_name in arr:\n",
    "    frame = cv2.imread(os.path.join(file_name))\n",
    "    cv2.rectangle(frame, (100,100), (300,300), (0,255,0), 2)\n",
    "    crop_img = frame[100:300, 100:300]\n",
    "    blur = cv2.GaussianBlur(crop_img,(7,7),0)\n",
    "    grey = cv2.cvtColor(blur, cv2.COLOR_BGR2GRAY)\n",
    "    kernel = np.ones((5,5))\n",
    "    dilation = cv2.dilate(grey,kernel,iterations=1)\n",
    "    erosion = cv2.erode(dilation,kernel,iterations=1)\n",
    "    blur1 = cv2.GaussianBlur(erosion,(5,5),0)\n",
    "    thresh = cv2.threshold(blur1,0,255,cv2.THRESH_BINARY_INV+cv2.THRESH_OTSU)[1]\n",
    "    pred_text = predict(thresh)\n",
    "    result_test2[file_name] = pred_text"
   ]
  }
 ],
 "metadata": {
  "kernelspec": {
   "display_name": ".venv",
   "language": "python",
   "name": "python3"
  },
  "language_info": {
   "codemirror_mode": {
    "name": "ipython",
    "version": 3
   },
   "file_extension": ".py",
   "mimetype": "text/x-python",
   "name": "python",
   "nbconvert_exporter": "python",
   "pygments_lexer": "ipython3",
   "version": "3.11.5"
  }
 },
 "nbformat": 4,
 "nbformat_minor": 2
}
